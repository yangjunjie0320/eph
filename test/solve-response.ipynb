{
 "cells": [
  {
   "cell_type": "code",
   "execution_count": null,
   "metadata": {},
   "outputs": [],
   "source": [
    "from pyscf import gto, scf\n",
    "\n",
    "mol = gto.M(atom='H 0 0 0; H 0 0 1')\n",
    "mf = scf.RHF(mol)\n",
    "mf.kernel()"
   ]
  }
 ],
 "metadata": {
  "language_info": {
   "name": "python"
  }
 },
 "nbformat": 4,
 "nbformat_minor": 2
}
